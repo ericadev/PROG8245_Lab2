{
 "cells": [
  {
   "cell_type": "markdown",
   "id": "2d469523",
   "metadata": {},
   "source": [
    "# PROG8245-25S-Sec1 Lab 2\n",
    "Erica Holden, 5490685"
   ]
  },
  {
   "cell_type": "code",
   "execution_count": 28,
   "id": "fcb76fa6",
   "metadata": {},
   "outputs": [
    {
     "name": "stdout",
     "output_type": "stream",
     "text": [
      "Requirement already satisfied: pandas in ./.venv/lib/python3.11/site-packages (2.2.3)\n",
      "Requirement already satisfied: numpy>=1.23.2 in ./.venv/lib/python3.11/site-packages (from pandas) (2.2.6)\n",
      "Requirement already satisfied: python-dateutil>=2.8.2 in ./.venv/lib/python3.11/site-packages (from pandas) (2.9.0.post0)\n",
      "Requirement already satisfied: pytz>=2020.1 in ./.venv/lib/python3.11/site-packages (from pandas) (2025.2)\n",
      "Requirement already satisfied: tzdata>=2022.7 in ./.venv/lib/python3.11/site-packages (from pandas) (2025.2)\n",
      "Requirement already satisfied: six>=1.5 in ./.venv/lib/python3.11/site-packages (from python-dateutil>=2.8.2->pandas) (1.17.0)\n",
      "Note: you may need to restart the kernel to use updated packages.\n"
     ]
    }
   ],
   "source": [
    "%pip install pandas\n",
    "\n",
    "import pandas as pd\n",
    "from datetime import datetime\n"
   ]
  },
  {
   "cell_type": "markdown",
   "id": "e37db927",
   "metadata": {},
   "source": [
    "## 1 Hello, Data!"
   ]
  },
  {
   "cell_type": "code",
   "execution_count": 2,
   "id": "12763272",
   "metadata": {},
   "outputs": [
    {
     "name": "stdout",
     "output_type": "stream",
     "text": [
      "         date  customer_id     product   price  quantity coupon_code  \\\n",
      "0  2023-12-24         1087  Smartphone  699.99         1         NaN   \n",
      "1  2023-04-12         1055      Camera  499.99         3  DISCOUNT20   \n",
      "2  2023-11-03         1045      Tablet  399.99         2         NaN   \n",
      "\n",
      "  shipping_city  \n",
      "0      San Jose  \n",
      "1  Philadelphia  \n",
      "2  Philadelphia  \n"
     ]
    }
   ],
   "source": [
    "df = pd.read_csv('./data/sales_records.csv')\n",
    "print(df.head(3))"
   ]
  },
  {
   "cell_type": "markdown",
   "id": "4dfc6011",
   "metadata": {},
   "source": [
    "## 2 Pick the Right Container\n",
    "\n",
    "I chose to represent the data as a class so I could use the key names I choose. A dict may have also been an option but using a class allows for certain OOP methods to be used with the code."
   ]
  },
  {
   "cell_type": "markdown",
   "id": "99f846d5",
   "metadata": {},
   "source": [
    "## 3 Transaction Class and OO data structure"
   ]
  },
  {
   "cell_type": "code",
   "execution_count": null,
   "id": "fa602325",
   "metadata": {},
   "outputs": [],
   "source": [
    "class Transaction:\n",
    "    ''' This is a Transaction class which will hold data about each transaction in the sales set'''\n",
    "    def __init__(self, date, customer_id, product, price, quantity, coupon_code, shipping_city):\n",
    "        self.order_date = date\n",
    "        self.customer_id = customer_id\n",
    "        self.product = product\n",
    "        self.price = price\n",
    "        self.quantity = quantity\n",
    "        self.coupon_code = coupon_code\n",
    "        self.shipping_city = shipping_city\n"
   ]
  },
  {
   "cell_type": "markdown",
   "id": "6f590641",
   "metadata": {},
   "source": [
    "## 4 Bulk Loader"
   ]
  },
  {
   "cell_type": "code",
   "execution_count": 71,
   "id": "accab5e5",
   "metadata": {},
   "outputs": [],
   "source": [
    "class Promo:\n",
    "    ''' This is a promo class which will hold details about each promo'''\n",
    "    def __init__(self, code, amount):\n",
    "        self.code = code\n",
    "        self.discount_amount = amount\n",
    "\n",
    "class PromoLoader:\n",
    "    ''' This is a promo loader class which will load promo codes and values based on a file path'''\n",
    "    # Load the promos from a file given a specific path\n",
    "    def loadPromos(self, file_path):\n",
    "        promos = []\n",
    "        df = pd.read_csv(file_path)\n",
    "        for index, row in df.iterrows():\n",
    "            promo = Promo(\n",
    "                code=row['code'],\n",
    "                amount=row['amount']\n",
    "            )\n",
    "            promos.append(promo)\n",
    "        self.promo_list = promos\n",
    "    \n",
    "    # Simply return the promos available as a list\n",
    "    def getPromos(self):\n",
    "        return self.promo_list\n",
    "    \n",
    "class Loader:\n",
    "    ''' This is a class made for loading and processing data given a file path'''\n",
    "    # Load the transactions using the Transaction class, given a file path\n",
    "    def loadTransactions(self, file_path):\n",
    "        transactions = []\n",
    "        df = pd.read_csv(file_path)\n",
    "        for index, row in df.iterrows():\n",
    "            transaction = Transaction(\n",
    "                date=row['date'],\n",
    "                customer_id=row['customer_id'],\n",
    "                product=row['product'],\n",
    "                price=row['price'],\n",
    "                quantity=row['quantity'],\n",
    "                coupon_code=row['coupon_code'],\n",
    "                shipping_city=row['shipping_city']\n",
    "            )\n",
    "            transactions.append(transaction)\n",
    "        self.tx_list = transactions\n",
    "\n",
    "    # Simply return the list of the transactions in this object\n",
    "    def getList(self):\n",
    "        return self.tx_list\n",
    "    \n",
    "    # Get the minimum price for the transactions in this object\n",
    "    def getMinPrice(self):\n",
    "        min_price = self.tx_list[0].price\n",
    "\n",
    "        for tx in self.tx_list:\n",
    "            if tx.price < min_price:\n",
    "                min_price = tx.price       \n",
    "        return min_price\n",
    "    \n",
    "    # Get the maximum price for the transactions in this object\n",
    "    def getMaxPrice(self):\n",
    "        max_price = self.tx_list[0].price\n",
    "\n",
    "        for tx in self.tx_list:\n",
    "            if tx.price > max_price:\n",
    "                max_price = tx.price\n",
    "        return max_price\n",
    "\n",
    "    # Get the mean price for the transactions in this object\n",
    "    def getMeanPrice(self):\n",
    "        total = 0\n",
    "        count = 0\n",
    "        mean = 0\n",
    "        for tx in self.tx_list:\n",
    "            total += tx.price\n",
    "            count += 1\n",
    "        \n",
    "        mean = total / count\n",
    "        return mean\n",
    "    \n",
    "    # Check if the given date is a valid date using pandas    \n",
    "    def isValidDate(self, dt):\n",
    "        try:\n",
    "            pd.to_datetime(dt)\n",
    "            return True\n",
    "        except (ValueError, TypeError):\n",
    "            return False\n",
    "\n",
    "    # Clean the data and display the count of rows during the cleaning\n",
    "    def clean(self):\n",
    "        local_tx_list = self.tx_list.copy()\n",
    "        print(f'Before cleaning, row count is: {len(local_tx_list)}')\n",
    "        print(f'Cleaning rows with \"LA\" as the city instead of Los Angeles (could also transform later)')\n",
    "        for tx in local_tx_list:\n",
    "            if tx.shipping_city == 'LA':\n",
    "                local_tx_list.remove(tx)\n",
    "        print(f'After removing \"LA\" rows: {len(local_tx_list)}')\n",
    "        print(f'Cleaning rows with invalid dates')\n",
    "        for tx in local_tx_list:\n",
    "            if (not self.isValidDate(tx.order_date)):\n",
    "                local_tx_list.remove(tx)\n",
    "        print(f'After removing rows with an invalid date: {len(local_tx_list)}')\n",
    "        self.tx_list = local_tx_list\n",
    "    \n",
    "    # Transform the data to apply a discount amount to the row if there is a matching promo code, and calculate the sales\n",
    "    # Also add an order ID to each order, since one was not provided in the dataset\n",
    "    def transform(self):\n",
    "        promoLoader = PromoLoader()\n",
    "        promoLoader.loadPromos('./data/coupon_codes.csv')\n",
    "        promosList = promoLoader.getPromos()\n",
    "\n",
    "        for tx in self.tx_list:\n",
    "            coupon_code = tx.coupon_code\n",
    "            matches = [p for p in promosList if p.code == coupon_code]\n",
    "            tx.discount = matches[0].discount_amount if matches else None\n",
    "        \n",
    "        for tx in self.tx_list:\n",
    "            total_before_discount = tx.price * tx.quantity\n",
    "            # Convert the discount to a floating point percentage\n",
    "            discount_amount = (tx.discount / 100) * total_before_discount if tx.discount else 0\n",
    "            tx.sales = total_before_discount - discount_amount\n",
    "\n",
    "        order_index = 0\n",
    "        for tx in self.tx_list:\n",
    "            tx.order_id = order_index\n",
    "            order_index += 1\n",
    "\n",
    "\n",
    "\n",
    "    # Add a feature to show days since the purchase of the item(s)\n",
    "    def addDaysSincePurchase(self):\n",
    "        today = datetime.today()\n",
    "        for tx in self.tx_list:\n",
    "            purchase_date = datetime.strptime(tx.order_date, '%Y-%m-%d')\n",
    "            tx.days_since_purchase = (today - purchase_date).days\n"
   ]
  },
  {
   "cell_type": "markdown",
   "id": "fb4923e6",
   "metadata": {},
   "source": [
    "## 5 Quick Profiling"
   ]
  },
  {
   "cell_type": "code",
   "execution_count": 72,
   "id": "95614f5c",
   "metadata": {},
   "outputs": [
    {
     "name": "stdout",
     "output_type": "stream",
     "text": [
      "Minimum price: 49.99\n",
      "Mean price: 362.6499999999991\n",
      "Maximum price: 999.99\n"
     ]
    }
   ],
   "source": [
    "loader = Loader();\n",
    "loader.loadTransactions('./data/sales_records.csv')\n",
    "tx_list = loader.getList()\n",
    "\n",
    "print(f'Minimum price: {loader.getMinPrice()}')\n",
    "print(f'Mean price: {loader.getMeanPrice()}')\n",
    "print(f'Maximum price: {loader.getMaxPrice()}')"
   ]
  },
  {
   "cell_type": "markdown",
   "id": "35ea3095",
   "metadata": {},
   "source": [
    "## 6 Spot the Grime\n",
    "\n",
    "There are rows that are missing a city.\n",
    "There are rows that use different names for the same city (LA and Los Angeles).\n",
    "There is a row with a date formatted incorrectly.\n"
   ]
  },
  {
   "cell_type": "markdown",
   "id": "f590e005",
   "metadata": {},
   "source": [
    "## 7 Cleaning Rules"
   ]
  },
  {
   "cell_type": "code",
   "execution_count": 73,
   "id": "959c71bd",
   "metadata": {},
   "outputs": [
    {
     "name": "stdout",
     "output_type": "stream",
     "text": [
      "Before cleaning, row count is: 500\n",
      "Cleaning rows with \"LA\" as the city instead of Los Angeles (could also transform later)\n",
      "After removing \"LA\" rows: 498\n",
      "Cleaning rows with invalid dates\n",
      "After removing rows with an invalid date: 497\n"
     ]
    }
   ],
   "source": [
    "loader.clean()"
   ]
  },
  {
   "cell_type": "markdown",
   "id": "103ae992",
   "metadata": {},
   "source": [
    "## 8 Transformations"
   ]
  },
  {
   "cell_type": "code",
   "execution_count": 74,
   "id": "611da48e",
   "metadata": {},
   "outputs": [],
   "source": [
    "loader.transform()"
   ]
  },
  {
   "cell_type": "markdown",
   "id": "654caff0",
   "metadata": {},
   "source": [
    "## 9 Feature Engineering"
   ]
  },
  {
   "cell_type": "code",
   "execution_count": 75,
   "id": "cd629dc3",
   "metadata": {},
   "outputs": [],
   "source": [
    "loader.addDaysSincePurchase()"
   ]
  },
  {
   "cell_type": "markdown",
   "id": "18f017c4",
   "metadata": {},
   "source": [
    "## 10 Mini-Aggregation"
   ]
  },
  {
   "cell_type": "code",
   "execution_count": null,
   "id": "95535947",
   "metadata": {},
   "outputs": [
    {
     "name": "stdout",
     "output_type": "stream",
     "text": [
      "shipping_city\n",
      "Chicago         61454.5265\n",
      "Dallas          52924.8890\n",
      "Houston         56045.4290\n",
      "Los Angeles     28866.3805\n",
      "New York        60627.0550\n",
      "Philadelphia    49652.1520\n",
      "Phoenix         37464.3075\n",
      "San Antonio     53429.9975\n",
      "San Diego       49081.4840\n",
      "San Jose        55963.4675\n",
      "Name: sales, dtype: float64\n"
     ]
    }
   ],
   "source": [
    "\n",
    "cleaned_and_transformed_data = pd.DataFrame([vars(t) for t in loader.getList()])\n",
    "sales_by_city = cleaned_and_transformed_data.groupby('shipping_city')['sales'].sum()\n",
    "print(f'Total Sales by City: \\n{sales_by_city}')\n",
    " \n",
    "# for ld in loader.getList():\n",
    "#    print(vars(ld))"
   ]
  },
  {
   "cell_type": "markdown",
   "id": "74c5acdd",
   "metadata": {},
   "source": [
    "## 11 Serialization Checkpoint\tSave cleaned data to JSON and Parquet"
   ]
  },
  {
   "cell_type": "markdown",
   "id": "24c36bb4",
   "metadata": {},
   "source": [
    "## 12 Soft Interview Reflection\tMarkdown: < 120 words explaining how OOP helped"
   ]
  }
 ],
 "metadata": {
  "kernelspec": {
   "display_name": ".venv",
   "language": "python",
   "name": "python3"
  },
  "language_info": {
   "codemirror_mode": {
    "name": "ipython",
    "version": 3
   },
   "file_extension": ".py",
   "mimetype": "text/x-python",
   "name": "python",
   "nbconvert_exporter": "python",
   "pygments_lexer": "ipython3",
   "version": "3.11.2"
  }
 },
 "nbformat": 4,
 "nbformat_minor": 5
}
