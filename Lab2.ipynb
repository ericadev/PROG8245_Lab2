{
 "cells": [
  {
   "cell_type": "markdown",
   "id": "2d469523",
   "metadata": {},
   "source": [
    "# PROG8245-25S-Sec1 Lab 2\n",
    "Erica Holden, 5490685"
   ]
  },
  {
   "cell_type": "code",
   "execution_count": null,
   "id": "fcb76fa6",
   "metadata": {},
   "outputs": [],
   "source": [
    "import pandas as pd"
   ]
  },
  {
   "cell_type": "markdown",
   "id": "e37db927",
   "metadata": {},
   "source": [
    "## 1 Hello, Data!"
   ]
  },
  {
   "cell_type": "code",
   "execution_count": null,
   "id": "12763272",
   "metadata": {},
   "outputs": [],
   "source": [
    "df = pd.read_csv('./data/salesrecords.csv')\n",
    "print(df.head(3))"
   ]
  },
  {
   "cell_type": "markdown",
   "id": "4dfc6011",
   "metadata": {},
   "source": [
    "## 2 Pick the Right Container"
   ]
  },
  {
   "cell_type": "markdown",
   "id": "99f846d5",
   "metadata": {},
   "source": [
    "## 3 Transaction Class and OO data structure"
   ]
  },
  {
   "cell_type": "code",
   "execution_count": null,
   "id": "fa602325",
   "metadata": {},
   "outputs": [],
   "source": [
    "class Transaction:\n",
    "    def __init__(self, order_id, units_sold, unit_price, unit_cost, total_revenue, total_cost, total_profit):\n",
    "        self.order_id = order_id\n",
    "        self.units_sold = units_sold\n",
    "        self.unit_price = unit_price\n",
    "        self.unit_cost = unit_cost\n",
    "        self.total_revenue = total_revenue\n",
    "        self.total_cost = total_cost\n",
    "        self.total_profit = total_profit\n"
   ]
  },
  {
   "cell_type": "markdown",
   "id": "6f590641",
   "metadata": {},
   "source": [
    "## 4 Bulk Loader"
   ]
  },
  {
   "cell_type": "code",
   "execution_count": null,
   "id": "accab5e5",
   "metadata": {},
   "outputs": [],
   "source": [
    "def load_transactions(file_path):\n",
    "    transactions = []\n",
    "    df = pd.read_csv(file_path)\n",
    "    for index, row in df.iterrows():\n",
    "        transaction = Transaction(\n",
    "            order_id=row['Order ID'],\n",
    "            units_sold=row['Units Sold'],\n",
    "            unit_price=row['Unit Price'],\n",
    "            unit_cost=row['Unit Cost'],\n",
    "            total_revenue=row['Total Revenue'],\n",
    "            total_cost=row['Total Cost'],\n",
    "            total_profit=row['Total Profit']\n",
    "        )\n",
    "        transactions.append(transaction)\n",
    "    return transactions"
   ]
  },
  {
   "cell_type": "markdown",
   "id": "fb4923e6",
   "metadata": {},
   "source": [
    "## 5 Quick Profiling"
   ]
  },
  {
   "cell_type": "markdown",
   "id": "35ea3095",
   "metadata": {},
   "source": [
    "## 6 Spot the Grime\tIdentify at least three dirty data cases"
   ]
  },
  {
   "cell_type": "markdown",
   "id": "f590e005",
   "metadata": {},
   "source": [
    "## 7 Cleaning Rules\tExecute fixes inside clean(); show “before/after” counts"
   ]
  },
  {
   "cell_type": "markdown",
   "id": "103ae992",
   "metadata": {},
   "source": [
    "## 8 Transformations\tFor example: Parse coupon_code ➞ numeric discount (others apply)"
   ]
  },
  {
   "cell_type": "markdown",
   "id": "654caff0",
   "metadata": {},
   "source": [
    "## 9 Feature Engineering\tFor example: Add days_since_purchase"
   ]
  },
  {
   "cell_type": "markdown",
   "id": "18f017c4",
   "metadata": {},
   "source": [
    "## 10 Mini-Aggregation\tFor example: Revenue per shipping_city (dict or pandas.groupby)"
   ]
  },
  {
   "cell_type": "markdown",
   "id": "74c5acdd",
   "metadata": {},
   "source": [
    "## 11 Serialization Checkpoint\tSave cleaned data to JSON and Parquet"
   ]
  },
  {
   "cell_type": "markdown",
   "id": "24c36bb4",
   "metadata": {},
   "source": [
    "## 12 Soft Interview Reflection\tMarkdown: < 120 words explaining how OOP helped"
   ]
  }
 ],
 "metadata": {
  "language_info": {
   "name": "python"
  }
 },
 "nbformat": 4,
 "nbformat_minor": 5
}
